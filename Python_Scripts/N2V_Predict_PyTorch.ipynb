{
 "cells": [
  {
   "cell_type": "code",
   "execution_count": 13,
   "id": "4da30e43-5a47-46ee-bcfe-f2c21bd19175",
   "metadata": {},
   "outputs": [
    {
     "name": "stderr",
     "output_type": "stream",
     "text": [
      "No working directory provided. Using current working directory: D:\\USERS\\MemJunc_Project.\n",
      "GPU available: True (cuda), used: True\n",
      "TPU available: False, using: 0 TPU cores\n",
      "HPU available: False, using: 0 HPUs\n",
      "LOCAL_RANK: 0 - CUDA_VISIBLE_DEVICES: [0]\n"
     ]
    },
    {
     "name": "stdout",
     "output_type": "stream",
     "text": [
      "Processing 2024.08.23- New EtOH 12h - zoom 2.lif - Field 2-1.tif...\n"
     ]
    },
    {
     "data": {
      "application/vnd.jupyter.widget-view+json": {
       "model_id": "0cb088da8e264510bb0751560fbc8070",
       "version_major": 2,
       "version_minor": 0
      },
      "text/plain": [
       "Predicting: |                                                                                    | 0/? [00:00<…"
      ]
     },
     "metadata": {},
     "output_type": "display_data"
    },
    {
     "name": "stderr",
     "output_type": "stream",
     "text": [
      "LOCAL_RANK: 0 - CUDA_VISIBLE_DEVICES: [0]\n"
     ]
    },
    {
     "name": "stdout",
     "output_type": "stream",
     "text": [
      "Processing 2024.08.23- New EtOH 12h - zoom 2.lif - Field 3-1.tif...\n"
     ]
    },
    {
     "data": {
      "application/vnd.jupyter.widget-view+json": {
       "model_id": "df3681fd7e344dbd8b26911a8e5d1da2",
       "version_major": 2,
       "version_minor": 0
      },
      "text/plain": [
       "Predicting: |                                                                                    | 0/? [00:00<…"
      ]
     },
     "metadata": {},
     "output_type": "display_data"
    },
    {
     "name": "stderr",
     "output_type": "stream",
     "text": [
      "LOCAL_RANK: 0 - CUDA_VISIBLE_DEVICES: [0]\n"
     ]
    },
    {
     "name": "stdout",
     "output_type": "stream",
     "text": [
      "Processing C4-2024.08.23- New EtOH 12h - zoom 2.lif - Field 1.tif...\n"
     ]
    },
    {
     "data": {
      "application/vnd.jupyter.widget-view+json": {
       "model_id": "d72d8a0b3ac44a91b17c1f88af4e6855",
       "version_major": 2,
       "version_minor": 0
      },
      "text/plain": [
       "Predicting: |                                                                                    | 0/? [00:00<…"
      ]
     },
     "metadata": {},
     "output_type": "display_data"
    }
   ],
   "source": [
    "from pathlib import Path\n",
    "import tifffile\n",
    "import careamics\n",
    "\n",
    "# Load the saved model checkpoint\n",
    "model_path = Path(\"D:/USERS/MemJunc_Project/checkpoints/model_n2v.ckpt\")\n",
    "careamics.model_io.load_pretrained(model_path)\n",
    "\n",
    "# Initialize CAREamist for prediction using the model path\n",
    "careamist = careamics.CAREamist(source=model_path)\n",
    "\n",
    "# Define source folder with input images\n",
    "source_folder = Path(\"Img_Raw\")\n",
    "output_folder = Path(\"Models\")\n",
    "\n",
    "output_folder.mkdir(exist_ok=True, parents=True)\n",
    "\n",
    "# Process all .tif files in the source folder\n",
    "for tif_file in source_folder.glob(\"*.tif\"):\n",
    "    print(f\"Processing {tif_file.name}...\")\n",
    "\n",
    "    # Perform prediction\n",
    "    prediction = careamist.predict(\n",
    "        source=tif_file,\n",
    "        tile_size=(32, 128, 128),\n",
    "        tile_overlap=(8, 48, 48),\n",
    "        batch_size=1,\n",
    "        tta=False,\n",
    "    )\n",
    "\n",
    "    # Save the prediction to the output folder\n",
    "    output_file = output_folder / f\"{tif_file.stem}_denoised.tiff\"\n",
    "    tifffile.imwrite(output_file, prediction[0])"
   ]
  },
  {
   "cell_type": "code",
   "execution_count": null,
   "id": "5622c9c7-099b-4dff-a081-ede20ef965c8",
   "metadata": {},
   "outputs": [],
   "source": []
  }
 ],
 "metadata": {
  "kernelspec": {
   "display_name": "Python 3 (ipykernel)",
   "language": "python",
   "name": "python3"
  },
  "language_info": {
   "codemirror_mode": {
    "name": "ipython",
    "version": 3
   },
   "file_extension": ".py",
   "mimetype": "text/x-python",
   "name": "python",
   "nbconvert_exporter": "python",
   "pygments_lexer": "ipython3",
   "version": "3.10.16"
  }
 },
 "nbformat": 4,
 "nbformat_minor": 5
}
