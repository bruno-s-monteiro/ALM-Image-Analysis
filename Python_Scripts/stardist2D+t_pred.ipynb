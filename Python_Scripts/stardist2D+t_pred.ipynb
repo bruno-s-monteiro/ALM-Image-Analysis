{
 "cells": [
  {
   "cell_type": "code",
   "execution_count": 1,
   "id": "31d535e0-9e44-4096-9450-5ae88942a1b7",
   "metadata": {},
   "outputs": [
    {
     "ename": "ModuleNotFoundError",
     "evalue": "No module named 'stardist'",
     "output_type": "error",
     "traceback": [
      "\u001b[1;31m---------------------------------------------------------------------------\u001b[0m",
      "\u001b[1;31mModuleNotFoundError\u001b[0m                       Traceback (most recent call last)",
      "Cell \u001b[1;32mIn[1], line 4\u001b[0m\n\u001b[0;32m      2\u001b[0m \u001b[38;5;28;01mimport\u001b[39;00m\u001b[38;5;250m \u001b[39m\u001b[38;5;21;01mnumpy\u001b[39;00m\u001b[38;5;250m \u001b[39m\u001b[38;5;28;01mas\u001b[39;00m\u001b[38;5;250m \u001b[39m\u001b[38;5;21;01mnp\u001b[39;00m\n\u001b[0;32m      3\u001b[0m \u001b[38;5;28;01mimport\u001b[39;00m\u001b[38;5;250m \u001b[39m\u001b[38;5;21;01mtifffile\u001b[39;00m\n\u001b[1;32m----> 4\u001b[0m \u001b[38;5;28;01mfrom\u001b[39;00m\u001b[38;5;250m \u001b[39m\u001b[38;5;21;01mstardist\u001b[39;00m\u001b[38;5;21;01m.\u001b[39;00m\u001b[38;5;21;01mmodels\u001b[39;00m\u001b[38;5;250m \u001b[39m\u001b[38;5;28;01mimport\u001b[39;00m StarDist2D\n\u001b[0;32m      5\u001b[0m \u001b[38;5;28;01mfrom\u001b[39;00m\u001b[38;5;250m \u001b[39m\u001b[38;5;21;01mskimage\u001b[39;00m\u001b[38;5;250m \u001b[39m\u001b[38;5;28;01mimport\u001b[39;00m io\n\u001b[0;32m      6\u001b[0m \u001b[38;5;28;01mfrom\u001b[39;00m\u001b[38;5;250m \u001b[39m\u001b[38;5;21;01mcsbdeep\u001b[39;00m\u001b[38;5;21;01m.\u001b[39;00m\u001b[38;5;21;01mutils\u001b[39;00m\u001b[38;5;250m \u001b[39m\u001b[38;5;28;01mimport\u001b[39;00m Path, normalize\n",
      "\u001b[1;31mModuleNotFoundError\u001b[0m: No module named 'stardist'"
     ]
    }
   ],
   "source": [
    "import os\n",
    "import numpy as np\n",
    "import tifffile\n",
    "from stardist.models import StarDist2D\n",
    "from skimage import io\n",
    "from csbdeep.utils import Path, normalize"
   ]
  },
  {
   "cell_type": "code",
   "execution_count": 2,
   "id": "b6e416da-0de2-4e76-91b2-f85f2d9b82cd",
   "metadata": {},
   "outputs": [
    {
     "name": "stdout",
     "output_type": "stream",
     "text": [
      "Loading network weights from 'weights_best.h5'.\n",
      "Loading thresholds from 'thresholds.json'.\n",
      "Using default values: prob_thresh=0.636315, nms_thresh=0.3.\n",
      "Loading image stack...\n"
     ]
    }
   ],
   "source": [
    "# Load the pre-trained StarDist2D model\n",
    "model_name = 'stardist_bac_bf_v0'\n",
    "model = StarDist2D(None, name=model_name, basedir='')\n",
    "\n",
    "# Input file path\n",
    "input_file = '03_P2LDC4_1_T2_stab.tif'\n",
    "\n",
    "# Output directory\n",
    "output_dir = 'out/'\n",
    "os.makedirs(output_dir, exist_ok=True)\n",
    "\n",
    "# Load the 2D+t image stack\n",
    "image_stack = tifffile.imread(input_file)  # Assumes a 3D stack with shape (T, Y, X)\n",
    "\n",
    "# Placeholder for predictions\n",
    "predictions = []"
   ]
  },
  {
   "cell_type": "code",
   "execution_count": 3,
   "id": "e97239f0-2f43-4b1a-9f52-aea09e003e57",
   "metadata": {},
   "outputs": [
    {
     "name": "stdout",
     "output_type": "stream",
     "text": [
      "Processing image stack...\n",
      "Processing frame 1/25...\n"
     ]
    },
    {
     "name": "stderr",
     "output_type": "stream",
     "text": [
      "functional.py (237): The structure of `inputs` doesn't match the expected structure.\n",
      "Expected: ['input']\n",
      "Received: inputs=Tensor(shape=(1, 1024, 1024, 1))\n"
     ]
    },
    {
     "name": "stdout",
     "output_type": "stream",
     "text": [
      "Processing frame 2/25...\n",
      "Processing frame 3/25...\n",
      "Processing frame 4/25...\n",
      "Processing frame 5/25...\n",
      "Processing frame 6/25...\n",
      "Processing frame 7/25...\n",
      "Processing frame 8/25...\n",
      "Processing frame 9/25...\n",
      "Processing frame 10/25...\n",
      "Processing frame 11/25...\n",
      "Processing frame 12/25...\n",
      "Processing frame 13/25...\n",
      "Processing frame 14/25...\n",
      "Processing frame 15/25...\n",
      "Processing frame 16/25...\n",
      "Processing frame 17/25...\n",
      "Processing frame 18/25...\n",
      "Processing frame 19/25...\n",
      "Processing frame 20/25...\n",
      "Processing frame 21/25...\n",
      "Processing frame 22/25...\n",
      "Processing frame 23/25...\n",
      "Processing frame 24/25...\n",
      "Processing frame 25/25...\n",
      "Saving predictions to out/predicted_labels.tif...\n"
     ]
    }
   ],
   "source": [
    "# Process each timepoint (2D slice)\n",
    "print(\"Processing image stack...\")\n",
    "for t in range(image_stack.shape[0]):\n",
    "    print(f\"Processing frame {t+1}/{image_stack.shape[0]}...\")\n",
    "    image = image_stack[t]\n",
    "\n",
    "    # Predict labels using StarDist\n",
    "    labels, _ = model.predict_instances(normalize(image))\n",
    "\n",
    "    # Append labels to the list of predictions\n",
    "    predictions.append(labels)\n",
    "\n",
    "# Stack predictions into a single 3D array\n",
    "predictions_stack = np.stack(predictions, axis=0)\n",
    "\n",
    "# Save the predicted labels as a TIFF stack\n",
    "output_file = os.path.join(output_dir, 'predicted_labels.tif')\n",
    "print(f\"Saving predictions to {output_file}...\")\n",
    "tifffile.imwrite(output_file, predictions_stack.astype(np.uint8))"
   ]
  },
  {
   "cell_type": "code",
   "execution_count": null,
   "id": "7e2dc245-d691-453f-932e-32d6480bb686",
   "metadata": {},
   "outputs": [],
   "source": []
  }
 ],
 "metadata": {
  "kernelspec": {
   "display_name": "Python 3 (ipykernel)",
   "language": "python",
   "name": "python3"
  },
  "language_info": {
   "codemirror_mode": {
    "name": "ipython",
    "version": 3
   },
   "file_extension": ".py",
   "mimetype": "text/x-python",
   "name": "python",
   "nbconvert_exporter": "python",
   "pygments_lexer": "ipython3",
   "version": "3.10.16"
  }
 },
 "nbformat": 4,
 "nbformat_minor": 5
}
